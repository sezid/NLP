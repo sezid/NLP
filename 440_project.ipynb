{
  "nbformat": 4,
  "nbformat_minor": 0,
  "metadata": {
    "colab": {
      "provenance": [],
      "gpuType": "T4"
    },
    "kernelspec": {
      "name": "python3",
      "display_name": "Python 3"
    },
    "language_info": {
      "name": "python"
    }
  },
  "cells": [
    {
      "cell_type": "code",
      "execution_count": 3,
      "metadata": {
        "id": "u3eqIoYPbZdc"
      },
      "outputs": [],
      "source": [
        "import pandas as pd\n",
        "from keras.preprocessing.text import Tokenizer\n",
        "from keras.preprocessing.sequence import pad_sequences\n",
        "from keras.models import Sequential\n",
        "from keras.layers import Dense, Embedding, LSTM, Bidirectional\n",
        "from keras.initializers import Constant\n",
        "from sklearn.model_selection import train_test_split\n",
        "import numpy as np"
      ]
    },
    {
      "cell_type": "code",
      "source": [
        "from google.colab import drive\n",
        "drive.mount('/content/drive')"
      ],
      "metadata": {
        "colab": {
          "base_uri": "https://localhost:8080/"
        },
        "id": "z1emO4NSGbcp",
        "outputId": "236299f4-f554-44a6-e601-633d2dd6f13c"
      },
      "execution_count": 5,
      "outputs": [
        {
          "output_type": "stream",
          "name": "stdout",
          "text": [
            "Mounted at /content/drive\n"
          ]
        }
      ]
    },
    {
      "cell_type": "code",
      "source": [
        "df = pd.read_csv('/content/IMDB Dataset.csv')\n",
        "\n"
      ],
      "metadata": {
        "id": "x0wpJRBzb-fp"
      },
      "execution_count": 6,
      "outputs": []
    },
    {
      "cell_type": "code",
      "source": [
        "df.head()\n"
      ],
      "metadata": {
        "colab": {
          "base_uri": "https://localhost:8080/",
          "height": 206
        },
        "id": "xu6hvzo1jQrl",
        "outputId": "9ed606d5-8b79-4242-e802-9bd85fa36797"
      },
      "execution_count": 7,
      "outputs": [
        {
          "output_type": "execute_result",
          "data": {
            "text/plain": [
              "                                              review sentiment\n",
              "0  One of the other reviewers has mentioned that ...  positive\n",
              "1  A wonderful little production. <br /><br />The...  positive\n",
              "2  I thought this was a wonderful way to spend ti...  positive\n",
              "3  Basically there's a family where a little boy ...  negative\n",
              "4  Petter Mattei's \"Love in the Time of Money\" is...  positive"
            ],
            "text/html": [
              "\n",
              "  <div id=\"df-29a0759e-5b4b-4fe8-9221-5fe0ad2644cb\" class=\"colab-df-container\">\n",
              "    <div>\n",
              "<style scoped>\n",
              "    .dataframe tbody tr th:only-of-type {\n",
              "        vertical-align: middle;\n",
              "    }\n",
              "\n",
              "    .dataframe tbody tr th {\n",
              "        vertical-align: top;\n",
              "    }\n",
              "\n",
              "    .dataframe thead th {\n",
              "        text-align: right;\n",
              "    }\n",
              "</style>\n",
              "<table border=\"1\" class=\"dataframe\">\n",
              "  <thead>\n",
              "    <tr style=\"text-align: right;\">\n",
              "      <th></th>\n",
              "      <th>review</th>\n",
              "      <th>sentiment</th>\n",
              "    </tr>\n",
              "  </thead>\n",
              "  <tbody>\n",
              "    <tr>\n",
              "      <th>0</th>\n",
              "      <td>One of the other reviewers has mentioned that ...</td>\n",
              "      <td>positive</td>\n",
              "    </tr>\n",
              "    <tr>\n",
              "      <th>1</th>\n",
              "      <td>A wonderful little production. &lt;br /&gt;&lt;br /&gt;The...</td>\n",
              "      <td>positive</td>\n",
              "    </tr>\n",
              "    <tr>\n",
              "      <th>2</th>\n",
              "      <td>I thought this was a wonderful way to spend ti...</td>\n",
              "      <td>positive</td>\n",
              "    </tr>\n",
              "    <tr>\n",
              "      <th>3</th>\n",
              "      <td>Basically there's a family where a little boy ...</td>\n",
              "      <td>negative</td>\n",
              "    </tr>\n",
              "    <tr>\n",
              "      <th>4</th>\n",
              "      <td>Petter Mattei's \"Love in the Time of Money\" is...</td>\n",
              "      <td>positive</td>\n",
              "    </tr>\n",
              "  </tbody>\n",
              "</table>\n",
              "</div>\n",
              "    <div class=\"colab-df-buttons\">\n",
              "\n",
              "  <div class=\"colab-df-container\">\n",
              "    <button class=\"colab-df-convert\" onclick=\"convertToInteractive('df-29a0759e-5b4b-4fe8-9221-5fe0ad2644cb')\"\n",
              "            title=\"Convert this dataframe to an interactive table.\"\n",
              "            style=\"display:none;\">\n",
              "\n",
              "  <svg xmlns=\"http://www.w3.org/2000/svg\" height=\"24px\" viewBox=\"0 -960 960 960\">\n",
              "    <path d=\"M120-120v-720h720v720H120Zm60-500h600v-160H180v160Zm220 220h160v-160H400v160Zm0 220h160v-160H400v160ZM180-400h160v-160H180v160Zm440 0h160v-160H620v160ZM180-180h160v-160H180v160Zm440 0h160v-160H620v160Z\"/>\n",
              "  </svg>\n",
              "    </button>\n",
              "\n",
              "  <style>\n",
              "    .colab-df-container {\n",
              "      display:flex;\n",
              "      gap: 12px;\n",
              "    }\n",
              "\n",
              "    .colab-df-convert {\n",
              "      background-color: #E8F0FE;\n",
              "      border: none;\n",
              "      border-radius: 50%;\n",
              "      cursor: pointer;\n",
              "      display: none;\n",
              "      fill: #1967D2;\n",
              "      height: 32px;\n",
              "      padding: 0 0 0 0;\n",
              "      width: 32px;\n",
              "    }\n",
              "\n",
              "    .colab-df-convert:hover {\n",
              "      background-color: #E2EBFA;\n",
              "      box-shadow: 0px 1px 2px rgba(60, 64, 67, 0.3), 0px 1px 3px 1px rgba(60, 64, 67, 0.15);\n",
              "      fill: #174EA6;\n",
              "    }\n",
              "\n",
              "    .colab-df-buttons div {\n",
              "      margin-bottom: 4px;\n",
              "    }\n",
              "\n",
              "    [theme=dark] .colab-df-convert {\n",
              "      background-color: #3B4455;\n",
              "      fill: #D2E3FC;\n",
              "    }\n",
              "\n",
              "    [theme=dark] .colab-df-convert:hover {\n",
              "      background-color: #434B5C;\n",
              "      box-shadow: 0px 1px 3px 1px rgba(0, 0, 0, 0.15);\n",
              "      filter: drop-shadow(0px 1px 2px rgba(0, 0, 0, 0.3));\n",
              "      fill: #FFFFFF;\n",
              "    }\n",
              "  </style>\n",
              "\n",
              "    <script>\n",
              "      const buttonEl =\n",
              "        document.querySelector('#df-29a0759e-5b4b-4fe8-9221-5fe0ad2644cb button.colab-df-convert');\n",
              "      buttonEl.style.display =\n",
              "        google.colab.kernel.accessAllowed ? 'block' : 'none';\n",
              "\n",
              "      async function convertToInteractive(key) {\n",
              "        const element = document.querySelector('#df-29a0759e-5b4b-4fe8-9221-5fe0ad2644cb');\n",
              "        const dataTable =\n",
              "          await google.colab.kernel.invokeFunction('convertToInteractive',\n",
              "                                                    [key], {});\n",
              "        if (!dataTable) return;\n",
              "\n",
              "        const docLinkHtml = 'Like what you see? Visit the ' +\n",
              "          '<a target=\"_blank\" href=https://colab.research.google.com/notebooks/data_table.ipynb>data table notebook</a>'\n",
              "          + ' to learn more about interactive tables.';\n",
              "        element.innerHTML = '';\n",
              "        dataTable['output_type'] = 'display_data';\n",
              "        await google.colab.output.renderOutput(dataTable, element);\n",
              "        const docLink = document.createElement('div');\n",
              "        docLink.innerHTML = docLinkHtml;\n",
              "        element.appendChild(docLink);\n",
              "      }\n",
              "    </script>\n",
              "  </div>\n",
              "\n",
              "\n",
              "<div id=\"df-f0e78ed9-edf2-4fd6-a1b1-df77240544f4\">\n",
              "  <button class=\"colab-df-quickchart\" onclick=\"quickchart('df-f0e78ed9-edf2-4fd6-a1b1-df77240544f4')\"\n",
              "            title=\"Suggest charts\"\n",
              "            style=\"display:none;\">\n",
              "\n",
              "<svg xmlns=\"http://www.w3.org/2000/svg\" height=\"24px\"viewBox=\"0 0 24 24\"\n",
              "     width=\"24px\">\n",
              "    <g>\n",
              "        <path d=\"M19 3H5c-1.1 0-2 .9-2 2v14c0 1.1.9 2 2 2h14c1.1 0 2-.9 2-2V5c0-1.1-.9-2-2-2zM9 17H7v-7h2v7zm4 0h-2V7h2v10zm4 0h-2v-4h2v4z\"/>\n",
              "    </g>\n",
              "</svg>\n",
              "  </button>\n",
              "\n",
              "<style>\n",
              "  .colab-df-quickchart {\n",
              "      --bg-color: #E8F0FE;\n",
              "      --fill-color: #1967D2;\n",
              "      --hover-bg-color: #E2EBFA;\n",
              "      --hover-fill-color: #174EA6;\n",
              "      --disabled-fill-color: #AAA;\n",
              "      --disabled-bg-color: #DDD;\n",
              "  }\n",
              "\n",
              "  [theme=dark] .colab-df-quickchart {\n",
              "      --bg-color: #3B4455;\n",
              "      --fill-color: #D2E3FC;\n",
              "      --hover-bg-color: #434B5C;\n",
              "      --hover-fill-color: #FFFFFF;\n",
              "      --disabled-bg-color: #3B4455;\n",
              "      --disabled-fill-color: #666;\n",
              "  }\n",
              "\n",
              "  .colab-df-quickchart {\n",
              "    background-color: var(--bg-color);\n",
              "    border: none;\n",
              "    border-radius: 50%;\n",
              "    cursor: pointer;\n",
              "    display: none;\n",
              "    fill: var(--fill-color);\n",
              "    height: 32px;\n",
              "    padding: 0;\n",
              "    width: 32px;\n",
              "  }\n",
              "\n",
              "  .colab-df-quickchart:hover {\n",
              "    background-color: var(--hover-bg-color);\n",
              "    box-shadow: 0 1px 2px rgba(60, 64, 67, 0.3), 0 1px 3px 1px rgba(60, 64, 67, 0.15);\n",
              "    fill: var(--button-hover-fill-color);\n",
              "  }\n",
              "\n",
              "  .colab-df-quickchart-complete:disabled,\n",
              "  .colab-df-quickchart-complete:disabled:hover {\n",
              "    background-color: var(--disabled-bg-color);\n",
              "    fill: var(--disabled-fill-color);\n",
              "    box-shadow: none;\n",
              "  }\n",
              "\n",
              "  .colab-df-spinner {\n",
              "    border: 2px solid var(--fill-color);\n",
              "    border-color: transparent;\n",
              "    border-bottom-color: var(--fill-color);\n",
              "    animation:\n",
              "      spin 1s steps(1) infinite;\n",
              "  }\n",
              "\n",
              "  @keyframes spin {\n",
              "    0% {\n",
              "      border-color: transparent;\n",
              "      border-bottom-color: var(--fill-color);\n",
              "      border-left-color: var(--fill-color);\n",
              "    }\n",
              "    20% {\n",
              "      border-color: transparent;\n",
              "      border-left-color: var(--fill-color);\n",
              "      border-top-color: var(--fill-color);\n",
              "    }\n",
              "    30% {\n",
              "      border-color: transparent;\n",
              "      border-left-color: var(--fill-color);\n",
              "      border-top-color: var(--fill-color);\n",
              "      border-right-color: var(--fill-color);\n",
              "    }\n",
              "    40% {\n",
              "      border-color: transparent;\n",
              "      border-right-color: var(--fill-color);\n",
              "      border-top-color: var(--fill-color);\n",
              "    }\n",
              "    60% {\n",
              "      border-color: transparent;\n",
              "      border-right-color: var(--fill-color);\n",
              "    }\n",
              "    80% {\n",
              "      border-color: transparent;\n",
              "      border-right-color: var(--fill-color);\n",
              "      border-bottom-color: var(--fill-color);\n",
              "    }\n",
              "    90% {\n",
              "      border-color: transparent;\n",
              "      border-bottom-color: var(--fill-color);\n",
              "    }\n",
              "  }\n",
              "</style>\n",
              "\n",
              "  <script>\n",
              "    async function quickchart(key) {\n",
              "      const quickchartButtonEl =\n",
              "        document.querySelector('#' + key + ' button');\n",
              "      quickchartButtonEl.disabled = true;  // To prevent multiple clicks.\n",
              "      quickchartButtonEl.classList.add('colab-df-spinner');\n",
              "      try {\n",
              "        const charts = await google.colab.kernel.invokeFunction(\n",
              "            'suggestCharts', [key], {});\n",
              "      } catch (error) {\n",
              "        console.error('Error during call to suggestCharts:', error);\n",
              "      }\n",
              "      quickchartButtonEl.classList.remove('colab-df-spinner');\n",
              "      quickchartButtonEl.classList.add('colab-df-quickchart-complete');\n",
              "    }\n",
              "    (() => {\n",
              "      let quickchartButtonEl =\n",
              "        document.querySelector('#df-f0e78ed9-edf2-4fd6-a1b1-df77240544f4 button');\n",
              "      quickchartButtonEl.style.display =\n",
              "        google.colab.kernel.accessAllowed ? 'block' : 'none';\n",
              "    })();\n",
              "  </script>\n",
              "</div>\n",
              "    </div>\n",
              "  </div>\n"
            ]
          },
          "metadata": {},
          "execution_count": 7
        }
      ]
    },
    {
      "cell_type": "code",
      "source": [
        "df.tail()"
      ],
      "metadata": {
        "colab": {
          "base_uri": "https://localhost:8080/",
          "height": 206
        },
        "id": "HGN6b_WCnpKO",
        "outputId": "a4b8ee84-5440-4673-a3ca-eddc48b11469"
      },
      "execution_count": 8,
      "outputs": [
        {
          "output_type": "execute_result",
          "data": {
            "text/plain": [
              "                                                  review sentiment\n",
              "49995  I thought this movie did a down right good job...  positive\n",
              "49996  Bad plot, bad dialogue, bad acting, idiotic di...  negative\n",
              "49997  I am a Catholic taught in parochial elementary...  negative\n",
              "49998  I'm going to have to disagree with the previou...  negative\n",
              "49999  No one expects the Star Trek movies to be high...  negative"
            ],
            "text/html": [
              "\n",
              "  <div id=\"df-de63f72e-10be-4db2-ae93-8ec54d92b328\" class=\"colab-df-container\">\n",
              "    <div>\n",
              "<style scoped>\n",
              "    .dataframe tbody tr th:only-of-type {\n",
              "        vertical-align: middle;\n",
              "    }\n",
              "\n",
              "    .dataframe tbody tr th {\n",
              "        vertical-align: top;\n",
              "    }\n",
              "\n",
              "    .dataframe thead th {\n",
              "        text-align: right;\n",
              "    }\n",
              "</style>\n",
              "<table border=\"1\" class=\"dataframe\">\n",
              "  <thead>\n",
              "    <tr style=\"text-align: right;\">\n",
              "      <th></th>\n",
              "      <th>review</th>\n",
              "      <th>sentiment</th>\n",
              "    </tr>\n",
              "  </thead>\n",
              "  <tbody>\n",
              "    <tr>\n",
              "      <th>49995</th>\n",
              "      <td>I thought this movie did a down right good job...</td>\n",
              "      <td>positive</td>\n",
              "    </tr>\n",
              "    <tr>\n",
              "      <th>49996</th>\n",
              "      <td>Bad plot, bad dialogue, bad acting, idiotic di...</td>\n",
              "      <td>negative</td>\n",
              "    </tr>\n",
              "    <tr>\n",
              "      <th>49997</th>\n",
              "      <td>I am a Catholic taught in parochial elementary...</td>\n",
              "      <td>negative</td>\n",
              "    </tr>\n",
              "    <tr>\n",
              "      <th>49998</th>\n",
              "      <td>I'm going to have to disagree with the previou...</td>\n",
              "      <td>negative</td>\n",
              "    </tr>\n",
              "    <tr>\n",
              "      <th>49999</th>\n",
              "      <td>No one expects the Star Trek movies to be high...</td>\n",
              "      <td>negative</td>\n",
              "    </tr>\n",
              "  </tbody>\n",
              "</table>\n",
              "</div>\n",
              "    <div class=\"colab-df-buttons\">\n",
              "\n",
              "  <div class=\"colab-df-container\">\n",
              "    <button class=\"colab-df-convert\" onclick=\"convertToInteractive('df-de63f72e-10be-4db2-ae93-8ec54d92b328')\"\n",
              "            title=\"Convert this dataframe to an interactive table.\"\n",
              "            style=\"display:none;\">\n",
              "\n",
              "  <svg xmlns=\"http://www.w3.org/2000/svg\" height=\"24px\" viewBox=\"0 -960 960 960\">\n",
              "    <path d=\"M120-120v-720h720v720H120Zm60-500h600v-160H180v160Zm220 220h160v-160H400v160Zm0 220h160v-160H400v160ZM180-400h160v-160H180v160Zm440 0h160v-160H620v160ZM180-180h160v-160H180v160Zm440 0h160v-160H620v160Z\"/>\n",
              "  </svg>\n",
              "    </button>\n",
              "\n",
              "  <style>\n",
              "    .colab-df-container {\n",
              "      display:flex;\n",
              "      gap: 12px;\n",
              "    }\n",
              "\n",
              "    .colab-df-convert {\n",
              "      background-color: #E8F0FE;\n",
              "      border: none;\n",
              "      border-radius: 50%;\n",
              "      cursor: pointer;\n",
              "      display: none;\n",
              "      fill: #1967D2;\n",
              "      height: 32px;\n",
              "      padding: 0 0 0 0;\n",
              "      width: 32px;\n",
              "    }\n",
              "\n",
              "    .colab-df-convert:hover {\n",
              "      background-color: #E2EBFA;\n",
              "      box-shadow: 0px 1px 2px rgba(60, 64, 67, 0.3), 0px 1px 3px 1px rgba(60, 64, 67, 0.15);\n",
              "      fill: #174EA6;\n",
              "    }\n",
              "\n",
              "    .colab-df-buttons div {\n",
              "      margin-bottom: 4px;\n",
              "    }\n",
              "\n",
              "    [theme=dark] .colab-df-convert {\n",
              "      background-color: #3B4455;\n",
              "      fill: #D2E3FC;\n",
              "    }\n",
              "\n",
              "    [theme=dark] .colab-df-convert:hover {\n",
              "      background-color: #434B5C;\n",
              "      box-shadow: 0px 1px 3px 1px rgba(0, 0, 0, 0.15);\n",
              "      filter: drop-shadow(0px 1px 2px rgba(0, 0, 0, 0.3));\n",
              "      fill: #FFFFFF;\n",
              "    }\n",
              "  </style>\n",
              "\n",
              "    <script>\n",
              "      const buttonEl =\n",
              "        document.querySelector('#df-de63f72e-10be-4db2-ae93-8ec54d92b328 button.colab-df-convert');\n",
              "      buttonEl.style.display =\n",
              "        google.colab.kernel.accessAllowed ? 'block' : 'none';\n",
              "\n",
              "      async function convertToInteractive(key) {\n",
              "        const element = document.querySelector('#df-de63f72e-10be-4db2-ae93-8ec54d92b328');\n",
              "        const dataTable =\n",
              "          await google.colab.kernel.invokeFunction('convertToInteractive',\n",
              "                                                    [key], {});\n",
              "        if (!dataTable) return;\n",
              "\n",
              "        const docLinkHtml = 'Like what you see? Visit the ' +\n",
              "          '<a target=\"_blank\" href=https://colab.research.google.com/notebooks/data_table.ipynb>data table notebook</a>'\n",
              "          + ' to learn more about interactive tables.';\n",
              "        element.innerHTML = '';\n",
              "        dataTable['output_type'] = 'display_data';\n",
              "        await google.colab.output.renderOutput(dataTable, element);\n",
              "        const docLink = document.createElement('div');\n",
              "        docLink.innerHTML = docLinkHtml;\n",
              "        element.appendChild(docLink);\n",
              "      }\n",
              "    </script>\n",
              "  </div>\n",
              "\n",
              "\n",
              "<div id=\"df-6480769a-4a6e-4c15-bcbe-ff27a2b2bc32\">\n",
              "  <button class=\"colab-df-quickchart\" onclick=\"quickchart('df-6480769a-4a6e-4c15-bcbe-ff27a2b2bc32')\"\n",
              "            title=\"Suggest charts\"\n",
              "            style=\"display:none;\">\n",
              "\n",
              "<svg xmlns=\"http://www.w3.org/2000/svg\" height=\"24px\"viewBox=\"0 0 24 24\"\n",
              "     width=\"24px\">\n",
              "    <g>\n",
              "        <path d=\"M19 3H5c-1.1 0-2 .9-2 2v14c0 1.1.9 2 2 2h14c1.1 0 2-.9 2-2V5c0-1.1-.9-2-2-2zM9 17H7v-7h2v7zm4 0h-2V7h2v10zm4 0h-2v-4h2v4z\"/>\n",
              "    </g>\n",
              "</svg>\n",
              "  </button>\n",
              "\n",
              "<style>\n",
              "  .colab-df-quickchart {\n",
              "      --bg-color: #E8F0FE;\n",
              "      --fill-color: #1967D2;\n",
              "      --hover-bg-color: #E2EBFA;\n",
              "      --hover-fill-color: #174EA6;\n",
              "      --disabled-fill-color: #AAA;\n",
              "      --disabled-bg-color: #DDD;\n",
              "  }\n",
              "\n",
              "  [theme=dark] .colab-df-quickchart {\n",
              "      --bg-color: #3B4455;\n",
              "      --fill-color: #D2E3FC;\n",
              "      --hover-bg-color: #434B5C;\n",
              "      --hover-fill-color: #FFFFFF;\n",
              "      --disabled-bg-color: #3B4455;\n",
              "      --disabled-fill-color: #666;\n",
              "  }\n",
              "\n",
              "  .colab-df-quickchart {\n",
              "    background-color: var(--bg-color);\n",
              "    border: none;\n",
              "    border-radius: 50%;\n",
              "    cursor: pointer;\n",
              "    display: none;\n",
              "    fill: var(--fill-color);\n",
              "    height: 32px;\n",
              "    padding: 0;\n",
              "    width: 32px;\n",
              "  }\n",
              "\n",
              "  .colab-df-quickchart:hover {\n",
              "    background-color: var(--hover-bg-color);\n",
              "    box-shadow: 0 1px 2px rgba(60, 64, 67, 0.3), 0 1px 3px 1px rgba(60, 64, 67, 0.15);\n",
              "    fill: var(--button-hover-fill-color);\n",
              "  }\n",
              "\n",
              "  .colab-df-quickchart-complete:disabled,\n",
              "  .colab-df-quickchart-complete:disabled:hover {\n",
              "    background-color: var(--disabled-bg-color);\n",
              "    fill: var(--disabled-fill-color);\n",
              "    box-shadow: none;\n",
              "  }\n",
              "\n",
              "  .colab-df-spinner {\n",
              "    border: 2px solid var(--fill-color);\n",
              "    border-color: transparent;\n",
              "    border-bottom-color: var(--fill-color);\n",
              "    animation:\n",
              "      spin 1s steps(1) infinite;\n",
              "  }\n",
              "\n",
              "  @keyframes spin {\n",
              "    0% {\n",
              "      border-color: transparent;\n",
              "      border-bottom-color: var(--fill-color);\n",
              "      border-left-color: var(--fill-color);\n",
              "    }\n",
              "    20% {\n",
              "      border-color: transparent;\n",
              "      border-left-color: var(--fill-color);\n",
              "      border-top-color: var(--fill-color);\n",
              "    }\n",
              "    30% {\n",
              "      border-color: transparent;\n",
              "      border-left-color: var(--fill-color);\n",
              "      border-top-color: var(--fill-color);\n",
              "      border-right-color: var(--fill-color);\n",
              "    }\n",
              "    40% {\n",
              "      border-color: transparent;\n",
              "      border-right-color: var(--fill-color);\n",
              "      border-top-color: var(--fill-color);\n",
              "    }\n",
              "    60% {\n",
              "      border-color: transparent;\n",
              "      border-right-color: var(--fill-color);\n",
              "    }\n",
              "    80% {\n",
              "      border-color: transparent;\n",
              "      border-right-color: var(--fill-color);\n",
              "      border-bottom-color: var(--fill-color);\n",
              "    }\n",
              "    90% {\n",
              "      border-color: transparent;\n",
              "      border-bottom-color: var(--fill-color);\n",
              "    }\n",
              "  }\n",
              "</style>\n",
              "\n",
              "  <script>\n",
              "    async function quickchart(key) {\n",
              "      const quickchartButtonEl =\n",
              "        document.querySelector('#' + key + ' button');\n",
              "      quickchartButtonEl.disabled = true;  // To prevent multiple clicks.\n",
              "      quickchartButtonEl.classList.add('colab-df-spinner');\n",
              "      try {\n",
              "        const charts = await google.colab.kernel.invokeFunction(\n",
              "            'suggestCharts', [key], {});\n",
              "      } catch (error) {\n",
              "        console.error('Error during call to suggestCharts:', error);\n",
              "      }\n",
              "      quickchartButtonEl.classList.remove('colab-df-spinner');\n",
              "      quickchartButtonEl.classList.add('colab-df-quickchart-complete');\n",
              "    }\n",
              "    (() => {\n",
              "      let quickchartButtonEl =\n",
              "        document.querySelector('#df-6480769a-4a6e-4c15-bcbe-ff27a2b2bc32 button');\n",
              "      quickchartButtonEl.style.display =\n",
              "        google.colab.kernel.accessAllowed ? 'block' : 'none';\n",
              "    })();\n",
              "  </script>\n",
              "</div>\n",
              "    </div>\n",
              "  </div>\n"
            ]
          },
          "metadata": {},
          "execution_count": 8
        }
      ]
    },
    {
      "cell_type": "code",
      "source": [
        "# Assuming the reviews are in a column named 'review' and sentiments in a column named 'sentiment'\n",
        "review = df['review'].tolist()\n",
        "sentiment = df['sentiment'].tolist()\n",
        "\n",
        "# Now, 'reviews' and 'sentiments' are lists containing the review texts and sentiment labels, respectively.\n"
      ],
      "metadata": {
        "id": "F53G4SRZ4J0h"
      },
      "execution_count": 9,
      "outputs": []
    },
    {
      "cell_type": "code",
      "source": [
        "import numpy as np\n",
        "\n",
        "def create_embedding_matrix(filepath, word_index, embedding_dim):\n",
        "    vocab_size = len(word_index) + 1  # Adding again 1 because of reserved 0 index\n",
        "    embedding_matrix = np.zeros((vocab_size, embedding_dim))\n",
        "\n",
        "    with open(filepath) as f:\n",
        "        for line in f:\n",
        "            word, *vector = line.split()\n",
        "            if word in word_index:\n",
        "                idx = word_index[word]\n",
        "                embedding_matrix[idx] = np.array(\n",
        "                    vector, dtype=np.float32)[:embedding_dim]\n",
        "\n",
        "    return embedding_matrix"
      ],
      "metadata": {
        "id": "-J_961JPnrWk"
      },
      "execution_count": 10,
      "outputs": []
    },
    {
      "cell_type": "code",
      "source": [
        "from keras.preprocessing.text import Tokenizer\n",
        "from keras.preprocessing. sequence import pad_sequences\n",
        "import numpy as np\n",
        "\n",
        "maxlen = 100 # We will cut reviews after 100 words\n",
        "training_samples = 40000 # We will be training on 40000 samples\n",
        "max_words = 10000 # We will only consider the top 10,000 words in the dataset\n",
        "testing_samples=10000\n",
        "tokenizer = Tokenizer(num_words=max_words)\n",
        "tokenizer.fit_on_texts(review)\n",
        "sequences = tokenizer. texts_to_sequences (review)\n",
        "word_index = tokenizer.word_index\n",
        "print('Found %s unique tokens.' % len(word_index))\n",
        "\n",
        "data = pad_sequences(sequences, maxlen=maxlen)\n",
        "\n",
        "sentiment = np.asarray(sentiment)\n",
        "print('Shape of data tensor:', data.shape)\n",
        "print('Shape of label tensor:', sentiment. shape)\n",
        "\n",
        "indices = np.arange(data.shape[0])\n",
        "np.random.shuffle(indices)\n",
        "data = data[indices]\n",
        "sentiment = sentiment[indices]\n",
        "\n",
        "x_train = data[:training_samples]\n",
        "y_train = sentiment[:training_samples]\n",
        "\n",
        "x_test=data[testing_samples:]\n",
        "y_test=sentiment[testing_samples:]"
      ],
      "metadata": {
        "colab": {
          "base_uri": "https://localhost:8080/"
        },
        "id": "I-pvK22W2req",
        "outputId": "21ea63c1-c29b-4117-c3d6-bf7b75f8dcc8"
      },
      "execution_count": 11,
      "outputs": [
        {
          "output_type": "stream",
          "name": "stdout",
          "text": [
            "Found 124252 unique tokens.\n",
            "Shape of data tensor: (50000, 100)\n",
            "Shape of label tensor: (50000,)\n"
          ]
        }
      ]
    },
    {
      "cell_type": "code",
      "source": [
        "y_test"
      ],
      "metadata": {
        "colab": {
          "base_uri": "https://localhost:8080/"
        },
        "id": "y7VfrQ9kiljq",
        "outputId": "1be9c8d0-9222-4f5a-b64f-61d533fa6322"
      },
      "execution_count": 12,
      "outputs": [
        {
          "output_type": "execute_result",
          "data": {
            "text/plain": [
              "array(['positive', 'positive', 'positive', ..., 'negative', 'positive',\n",
              "       'negative'], dtype='<U8')"
            ]
          },
          "metadata": {},
          "execution_count": 12
        }
      ]
    },
    {
      "cell_type": "code",
      "source": [
        "y_val"
      ],
      "metadata": {
        "colab": {
          "base_uri": "https://localhost:8080/"
        },
        "id": "7FwgrMZ6i0Dx",
        "outputId": "7353e696-159f-41c6-919c-cf41270526c5"
      },
      "execution_count": 13,
      "outputs": [
        {
          "output_type": "execute_result",
          "data": {
            "text/plain": [
              "array(['positive', 'positive', 'negative', ..., 'negative', 'positive',\n",
              "       'negative'], dtype='<U8')"
            ]
          },
          "metadata": {},
          "execution_count": 13
        }
      ]
    },
    {
      "cell_type": "code",
      "source": [
        "embeddings_index = {}\n",
        "\n",
        "# Open the GloVe file\n",
        "with open('/content/glove.6B.100d.txt', encoding=\"utf8\") as f:\n",
        "    for line in f:\n",
        "        values = line.split()\n",
        "        word = values[0]\n",
        "        coefs = np.asarray(values[1:], dtype='float32')\n",
        "        embeddings_index[word] = coefs\n",
        "\n",
        "print(f'Found {len(embeddings_index)} word vectors.')\n"
      ],
      "metadata": {
        "colab": {
          "base_uri": "https://localhost:8080/"
        },
        "id": "-7BOfbSU6bW-",
        "outputId": "50babc32-d3d2-445b-aef8-a0eb0031d040"
      },
      "execution_count": 14,
      "outputs": [
        {
          "output_type": "stream",
          "name": "stdout",
          "text": [
            "Found 287203 word vectors.\n"
          ]
        }
      ]
    },
    {
      "cell_type": "code",
      "source": [
        "embeddings_index['bad']"
      ],
      "metadata": {
        "colab": {
          "base_uri": "https://localhost:8080/"
        },
        "id": "fxP1TFFm7hPR",
        "outputId": "f6e776e6-3e0e-49d8-97ce-f01092310ec1"
      },
      "execution_count": 15,
      "outputs": [
        {
          "output_type": "execute_result",
          "data": {
            "text/plain": [
              "array([ 0.39456  , -0.24717  ,  1.0319   , -0.61444  , -1.2376   ,\n",
              "        0.051794 , -0.55112  , -0.31014  , -0.025735 , -0.24709  ,\n",
              "        0.25836  ,  0.34899  ,  0.46176  ,  0.44237  ,  0.354    ,\n",
              "        0.21262  , -0.26312  , -0.17128  ,  0.44013  ,  1.1284   ,\n",
              "        0.37259  ,  0.41969  , -0.2534   , -0.051885 , -0.34917  ,\n",
              "        0.15298  , -0.68444  , -0.19514  , -0.018647 ,  0.084191 ,\n",
              "        0.14569  ,  0.3869   ,  0.023524 , -0.37861  , -0.65081  ,\n",
              "        0.010398 , -0.50087  , -0.087368 ,  0.098617 , -0.21907  ,\n",
              "       -0.072412 , -0.10247  , -0.3148   , -0.307    , -0.30457  ,\n",
              "       -0.14329  ,  0.10313  , -0.040487 , -0.095922 , -1.192    ,\n",
              "       -0.063356 ,  0.034127 , -0.057674 ,  0.56582  ,  0.082541 ,\n",
              "       -2.4617   ,  0.48029  ,  0.72806  ,  1.2841   ,  0.10672  ,\n",
              "       -0.045119 ,  1.0117   , -0.97928  ,  0.022828 ,  0.46876  ,\n",
              "       -0.026875 ,  0.80018  , -0.23101  ,  0.086699 , -0.74338  ,\n",
              "       -0.38738  , -0.1924   , -0.13292  ,  0.52347  ,  0.35659  ,\n",
              "        0.21065  , -0.18669  ,  0.41563  , -0.50874  ,  0.47643  ,\n",
              "        0.78591  ,  0.28015  , -0.74565  , -0.015569 , -1.8451   ,\n",
              "       -0.28427  , -0.81722  , -0.43254  , -0.60031  , -0.40052  ,\n",
              "       -0.26612  , -0.05855  , -0.2051   ,  0.16208  , -0.25305  ,\n",
              "        0.48163  , -0.15905  ,  0.0064973,  0.13793  , -0.06832  ],\n",
              "      dtype=float32)"
            ]
          },
          "metadata": {},
          "execution_count": 15
        }
      ]
    },
    {
      "cell_type": "code",
      "source": [
        "embedding_dim = 100\n",
        "embedding_matrix = np.zeros ((max_words, embedding_dim))\n",
        "for word, i in word_index.items():\n",
        "  embedding_vector = embeddings_index.get(word)\n",
        "  if i < max_words:\n",
        "    if embedding_vector is not None:\n",
        "      # Words not found in embedding index will be all-zeros.\n",
        "      embedding_matrix[i] = embedding_vector"
      ],
      "metadata": {
        "id": "jC2MzJMs7r_e"
      },
      "execution_count": 16,
      "outputs": []
    },
    {
      "cell_type": "code",
      "source": [
        "from keras.models import Sequential\n",
        "from keras.layers import Embedding, Flatten, Dense\n",
        "model = Sequential()\n",
        "\n",
        "\n",
        "model.add(Embedding (max_words, embedding_dim, input_length=maxlen))\n",
        "model.add(Dense(10,activation=\"relu\"))\n",
        "model.add(Flatten())\n",
        "\n",
        "model.add(Dense(1,activation=\"sigmoid\"))\n",
        "\n",
        "model.summary()\n",
        "\n",
        "\n",
        "\n",
        "\n"
      ],
      "metadata": {
        "colab": {
          "base_uri": "https://localhost:8080/"
        },
        "id": "IUOlV5QC8U8Q",
        "outputId": "cc86656c-9f16-4e15-af96-ac1d81a9ce86"
      },
      "execution_count": 17,
      "outputs": [
        {
          "output_type": "stream",
          "name": "stdout",
          "text": [
            "Model: \"sequential\"\n",
            "_________________________________________________________________\n",
            " Layer (type)                Output Shape              Param #   \n",
            "=================================================================\n",
            " embedding (Embedding)       (None, 100, 100)          1000000   \n",
            "                                                                 \n",
            " dense (Dense)               (None, 100, 10)           1010      \n",
            "                                                                 \n",
            " flatten (Flatten)           (None, 1000)              0         \n",
            "                                                                 \n",
            " dense_1 (Dense)             (None, 1)                 1001      \n",
            "                                                                 \n",
            "=================================================================\n",
            "Total params: 1002011 (3.82 MB)\n",
            "Trainable params: 1002011 (3.82 MB)\n",
            "Non-trainable params: 0 (0.00 Byte)\n",
            "_________________________________________________________________\n"
          ]
        }
      ]
    },
    {
      "cell_type": "code",
      "source": [
        "model.layers[0].set_weights ([embedding_matrix])\n",
        "model.layers[0].trainable = False\n"
      ],
      "metadata": {
        "id": "ZWLYOejq8esK"
      },
      "execution_count": 19,
      "outputs": []
    },
    {
      "cell_type": "code",
      "source": [
        "#convert y_train and y_val to binary\n",
        "from sklearn.preprocessing import LabelEncoder\n",
        "\n",
        "# Example labels (replace these with your actual y_train and y_val)\n",
        "\n",
        "\n",
        "# Initialize LabelEncoder\n",
        "label_encoder = LabelEncoder()\n",
        "\n",
        "# Fit and transform labels to binary format\n",
        "y_train_binary = label_encoder.fit_transform(y_train)\n",
        "y_val_binary = label_encoder.transform(y_val)\n",
        "y_test_binary=label_encoder.transform(y_test)\n",
        "\n",
        "\n",
        "\n",
        "# Display the transformed labels\n",
        "print(\"Transformed y_train:\", y_train_binary)\n",
        "print(\"Transformed y_val:\", y_val_binary)\n",
        "print(\"Transformed y_val:\", y_test_binary)\n",
        "\n",
        "\n",
        "#saving the y_train and y_val if we see a problem\n",
        "y_train_og=y_train\n",
        "y_val_og=y_val\n",
        "y_test_og=y_test\n",
        "\n",
        "#changing y_val and y_train to 0s and 1s\n",
        "\n",
        "y_train=y_train_binary\n",
        "y_val=y_val_binary\n",
        "y_test=y_test_binary"
      ],
      "metadata": {
        "colab": {
          "base_uri": "https://localhost:8080/"
        },
        "id": "ywePmheJGLNE",
        "outputId": "fcc7c584-a695-450e-c30d-adf784ca56e7"
      },
      "execution_count": 20,
      "outputs": [
        {
          "output_type": "stream",
          "name": "stdout",
          "text": [
            "Transformed y_train: [1 0 1 ... 0 0 1]\n",
            "Transformed y_val: [1 1 0 ... 0 1 0]\n",
            "Transformed y_val: [1 1 1 ... 0 1 0]\n"
          ]
        }
      ]
    },
    {
      "cell_type": "code",
      "source": [
        "model.compile(optimizer='rmsprop',loss='binary_crossentropy', metrics=['acc'])\n",
        "model.fit(x_train, y_train, epochs=20, batch_size=256)\n"
      ],
      "metadata": {
        "colab": {
          "base_uri": "https://localhost:8080/"
        },
        "id": "op5fkGzv82fv",
        "outputId": "b9031b56-d994-434a-be9d-c45e14de61ec"
      },
      "execution_count": 21,
      "outputs": [
        {
          "output_type": "stream",
          "name": "stdout",
          "text": [
            "Epoch 1/20\n",
            "157/157 [==============================] - 4s 18ms/step - loss: 0.6539 - acc: 0.6096\n",
            "Epoch 2/20\n",
            "157/157 [==============================] - 2s 12ms/step - loss: 0.5288 - acc: 0.7442\n",
            "Epoch 3/20\n",
            "157/157 [==============================] - 2s 12ms/step - loss: 0.4726 - acc: 0.7787\n",
            "Epoch 4/20\n",
            "157/157 [==============================] - 2s 12ms/step - loss: 0.4490 - acc: 0.7921\n",
            "Epoch 5/20\n",
            "157/157 [==============================] - 2s 12ms/step - loss: 0.4340 - acc: 0.7990\n",
            "Epoch 6/20\n",
            "157/157 [==============================] - 2s 11ms/step - loss: 0.4219 - acc: 0.8059\n",
            "Epoch 7/20\n",
            "157/157 [==============================] - 2s 16ms/step - loss: 0.4133 - acc: 0.8092\n",
            "Epoch 8/20\n",
            "157/157 [==============================] - 3s 19ms/step - loss: 0.4060 - acc: 0.8136\n",
            "Epoch 9/20\n",
            "157/157 [==============================] - 2s 13ms/step - loss: 0.4007 - acc: 0.8180\n",
            "Epoch 10/20\n",
            "157/157 [==============================] - 2s 11ms/step - loss: 0.3940 - acc: 0.8206\n",
            "Epoch 11/20\n",
            "157/157 [==============================] - 2s 11ms/step - loss: 0.3899 - acc: 0.8244\n",
            "Epoch 12/20\n",
            "157/157 [==============================] - 2s 12ms/step - loss: 0.3857 - acc: 0.8253\n",
            "Epoch 13/20\n",
            "157/157 [==============================] - 2s 12ms/step - loss: 0.3831 - acc: 0.8287\n",
            "Epoch 14/20\n",
            "157/157 [==============================] - 2s 13ms/step - loss: 0.3796 - acc: 0.8292\n",
            "Epoch 15/20\n",
            "157/157 [==============================] - 4s 26ms/step - loss: 0.3767 - acc: 0.8312\n",
            "Epoch 16/20\n",
            "157/157 [==============================] - 4s 22ms/step - loss: 0.3745 - acc: 0.8324\n",
            "Epoch 17/20\n",
            "157/157 [==============================] - 4s 22ms/step - loss: 0.3717 - acc: 0.8336\n",
            "Epoch 18/20\n",
            "157/157 [==============================] - 4s 22ms/step - loss: 0.3701 - acc: 0.8352\n",
            "Epoch 19/20\n",
            "157/157 [==============================] - 2s 13ms/step - loss: 0.3674 - acc: 0.8354\n",
            "Epoch 20/20\n",
            "157/157 [==============================] - 3s 18ms/step - loss: 0.3662 - acc: 0.8370\n"
          ]
        },
        {
          "output_type": "execute_result",
          "data": {
            "text/plain": [
              "<keras.src.callbacks.History at 0x7b41f8236290>"
            ]
          },
          "metadata": {},
          "execution_count": 21
        }
      ]
    },
    {
      "cell_type": "code",
      "source": [
        "#Unidirectional LSTM layer\n",
        "\n",
        "# Define parameter\n",
        "n_lstm = 128\n",
        "\n",
        "\n",
        "model1 = Sequential()\n",
        "\n",
        "\n",
        "model1.add(Embedding (max_words, embedding_dim, input_length=maxlen))\n",
        "model1.add(LSTM(n_lstm, return_sequences=False))\n",
        "model1.add(Flatten())\n",
        "\n",
        "model1.add(Dense(1,activation=\"sigmoid\"))\n",
        "\n",
        "model1.summary()"
      ],
      "metadata": {
        "colab": {
          "base_uri": "https://localhost:8080/"
        },
        "id": "jBkT2kbUer9A",
        "outputId": "36c36876-2696-46b9-cca8-a7c6fe4f01c8"
      },
      "execution_count": 22,
      "outputs": [
        {
          "output_type": "stream",
          "name": "stdout",
          "text": [
            "Model: \"sequential_1\"\n",
            "_________________________________________________________________\n",
            " Layer (type)                Output Shape              Param #   \n",
            "=================================================================\n",
            " embedding_1 (Embedding)     (None, 100, 100)          1000000   \n",
            "                                                                 \n",
            " lstm (LSTM)                 (None, 128)               117248    \n",
            "                                                                 \n",
            " flatten_1 (Flatten)         (None, 128)               0         \n",
            "                                                                 \n",
            " dense_2 (Dense)             (None, 1)                 129       \n",
            "                                                                 \n",
            "=================================================================\n",
            "Total params: 1117377 (4.26 MB)\n",
            "Trainable params: 1117377 (4.26 MB)\n",
            "Non-trainable params: 0 (0.00 Byte)\n",
            "_________________________________________________________________\n"
          ]
        }
      ]
    },
    {
      "cell_type": "code",
      "source": [
        "model1.layers[0].set_weights ([embedding_matrix])\n",
        "model1.layers[0].trainable = False\n"
      ],
      "metadata": {
        "id": "8t_MlDG3YTAd"
      },
      "execution_count": 23,
      "outputs": []
    },
    {
      "cell_type": "code",
      "source": [
        "model1.compile(optimizer='adam',loss='binary_crossentropy', metrics=['acc'])\n",
        "model1.fit(x_train, y_train, epochs=20, batch_size=256)\n",
        "# model1.save_weights ('pre_trained_glove_model.h5')"
      ],
      "metadata": {
        "colab": {
          "base_uri": "https://localhost:8080/"
        },
        "id": "Wa2Aopa1faNu",
        "outputId": "95dcd5b5-571f-411c-f01d-4cef7e416ee4"
      },
      "execution_count": 24,
      "outputs": [
        {
          "output_type": "stream",
          "name": "stdout",
          "text": [
            "Epoch 1/20\n",
            "157/157 [==============================] - 78s 485ms/step - loss: 0.5493 - acc: 0.7155\n",
            "Epoch 2/20\n",
            "157/157 [==============================] - 74s 474ms/step - loss: 0.4548 - acc: 0.7851\n",
            "Epoch 3/20\n",
            "157/157 [==============================] - 73s 468ms/step - loss: 0.4090 - acc: 0.8138\n",
            "Epoch 4/20\n",
            "157/157 [==============================] - 72s 460ms/step - loss: 0.3782 - acc: 0.8281\n",
            "Epoch 5/20\n",
            "157/157 [==============================] - 74s 473ms/step - loss: 0.3537 - acc: 0.8420\n",
            "Epoch 6/20\n",
            "157/157 [==============================] - 74s 475ms/step - loss: 0.3327 - acc: 0.8531\n",
            "Epoch 7/20\n",
            "157/157 [==============================] - 73s 463ms/step - loss: 0.3153 - acc: 0.8617\n",
            "Epoch 8/20\n",
            "157/157 [==============================] - 77s 489ms/step - loss: 0.3009 - acc: 0.8693\n",
            "Epoch 9/20\n",
            "157/157 [==============================] - 74s 475ms/step - loss: 0.2892 - acc: 0.8753\n",
            "Epoch 10/20\n",
            "157/157 [==============================] - 77s 489ms/step - loss: 0.2749 - acc: 0.8825\n",
            "Epoch 11/20\n",
            "157/157 [==============================] - 74s 472ms/step - loss: 0.2605 - acc: 0.8891\n",
            "Epoch 12/20\n",
            "157/157 [==============================] - 73s 463ms/step - loss: 0.2464 - acc: 0.8972\n",
            "Epoch 13/20\n",
            "157/157 [==============================] - 74s 475ms/step - loss: 0.2360 - acc: 0.9013\n",
            "Epoch 14/20\n",
            "157/157 [==============================] - 75s 478ms/step - loss: 0.2175 - acc: 0.9105\n",
            "Epoch 15/20\n",
            "157/157 [==============================] - 78s 495ms/step - loss: 0.2042 - acc: 0.9165\n",
            "Epoch 16/20\n",
            "157/157 [==============================] - 73s 467ms/step - loss: 0.1940 - acc: 0.9214\n",
            "Epoch 17/20\n",
            "157/157 [==============================] - 73s 464ms/step - loss: 0.1744 - acc: 0.9302\n",
            "Epoch 18/20\n",
            "157/157 [==============================] - 74s 475ms/step - loss: 0.1576 - acc: 0.9382\n",
            "Epoch 19/20\n",
            "157/157 [==============================] - 75s 478ms/step - loss: 0.1447 - acc: 0.9431\n",
            "Epoch 20/20\n",
            "157/157 [==============================] - 74s 471ms/step - loss: 0.1256 - acc: 0.9525\n"
          ]
        },
        {
          "output_type": "execute_result",
          "data": {
            "text/plain": [
              "<keras.src.callbacks.History at 0x7b41f89da200>"
            ]
          },
          "metadata": {},
          "execution_count": 24
        }
      ]
    },
    {
      "cell_type": "code",
      "source": [
        "#Bidirectional LSTM layer(Incomplete)\n",
        "\n",
        "# Define parameter\n",
        "n_lstm = 128\n",
        "\n",
        "\n",
        "model2 = Sequential()\n",
        "\n",
        "\n",
        "model2.add(Embedding (max_words, embedding_dim, input_length=maxlen))\n",
        "model2.add(Bidirectional(LSTM(64,return_sequences = False)))\n",
        "model2.add(Flatten())\n",
        "model2.add(Dense(1,activation=\"sigmoid\"))\n"
      ],
      "metadata": {
        "id": "EBEJb--ut9-b"
      },
      "execution_count": 25,
      "outputs": []
    },
    {
      "cell_type": "code",
      "source": [
        "model2.layers[0].set_weights ([embedding_matrix])\n",
        "model2.layers[0].trainable = False\n"
      ],
      "metadata": {
        "id": "l-ow96WpuwFl"
      },
      "execution_count": 31,
      "outputs": []
    },
    {
      "cell_type": "code",
      "source": [
        "model2.compile(optimizer='adam',loss='binary_crossentropy', metrics=['acc'])\n",
        "model2.fit(x_train, y_train, epochs=20, batch_size=256)\n",
        "# model1.save_weights ('pre_trained_glove_model.h5')\n"
      ],
      "metadata": {
        "colab": {
          "base_uri": "https://localhost:8080/"
        },
        "id": "A6ysNpDZudFz",
        "outputId": "dff78964-277f-4d8f-9eef-cb4f62679f7a"
      },
      "execution_count": 32,
      "outputs": [
        {
          "output_type": "stream",
          "name": "stdout",
          "text": [
            "Epoch 1/20\n",
            "157/157 [==============================] - 76s 450ms/step - loss: 0.9110 - acc: 0.5634\n",
            "Epoch 2/20\n",
            "157/157 [==============================] - 69s 442ms/step - loss: 0.5268 - acc: 0.7431\n",
            "Epoch 3/20\n",
            "157/157 [==============================] - 71s 452ms/step - loss: 0.4460 - acc: 0.7935\n",
            "Epoch 4/20\n",
            "157/157 [==============================] - 75s 474ms/step - loss: 0.4135 - acc: 0.8113\n",
            "Epoch 5/20\n",
            "157/157 [==============================] - 69s 440ms/step - loss: 0.3967 - acc: 0.8208\n",
            "Epoch 6/20\n",
            "157/157 [==============================] - 72s 457ms/step - loss: 0.3770 - acc: 0.8317\n",
            "Epoch 7/20\n",
            "157/157 [==============================] - 69s 440ms/step - loss: 0.3669 - acc: 0.8340\n",
            "Epoch 8/20\n",
            "157/157 [==============================] - 75s 478ms/step - loss: 0.3517 - acc: 0.8435\n",
            "Epoch 9/20\n",
            "157/157 [==============================] - 69s 440ms/step - loss: 0.3462 - acc: 0.8460\n",
            "Epoch 10/20\n",
            "157/157 [==============================] - 71s 455ms/step - loss: 0.3366 - acc: 0.8515\n",
            "Epoch 11/20\n",
            "157/157 [==============================] - 69s 438ms/step - loss: 0.3243 - acc: 0.8572\n",
            "Epoch 12/20\n",
            "157/157 [==============================] - 71s 456ms/step - loss: 0.3189 - acc: 0.8602\n",
            "Epoch 13/20\n",
            "157/157 [==============================] - 69s 440ms/step - loss: 0.3072 - acc: 0.8658\n",
            "Epoch 14/20\n",
            "157/157 [==============================] - 72s 457ms/step - loss: 0.3030 - acc: 0.8679\n",
            "Epoch 15/20\n",
            "157/157 [==============================] - 69s 442ms/step - loss: 0.2927 - acc: 0.8719\n",
            "Epoch 16/20\n",
            "157/157 [==============================] - 72s 457ms/step - loss: 0.2891 - acc: 0.8759\n",
            "Epoch 17/20\n",
            "157/157 [==============================] - 69s 440ms/step - loss: 0.2771 - acc: 0.8799\n",
            "Epoch 18/20\n",
            "157/157 [==============================] - 80s 509ms/step - loss: 0.2681 - acc: 0.8851\n",
            "Epoch 19/20\n",
            "157/157 [==============================] - 74s 475ms/step - loss: 0.2611 - acc: 0.8874\n",
            "Epoch 20/20\n",
            "157/157 [==============================] - 74s 472ms/step - loss: 0.2521 - acc: 0.8931\n"
          ]
        },
        {
          "output_type": "execute_result",
          "data": {
            "text/plain": [
              "<keras.src.callbacks.History at 0x7b41e8922410>"
            ]
          },
          "metadata": {},
          "execution_count": 32
        }
      ]
    },
    {
      "cell_type": "code",
      "source": [
        "train_dense_results = model.evaluate(x_train, y_train, verbose=2, batch_size=256)\n",
        "valid_dense_results = model.evaluate(x_test, y_test, verbose=2, batch_size=256)\n",
        "print(f'Train accuracy: {train_dense_results[1]*100:0.2f}')\n",
        "print(f'Test accuracy: {valid_dense_results[1]*100:0.2f}')"
      ],
      "metadata": {
        "colab": {
          "base_uri": "https://localhost:8080/"
        },
        "id": "8N2wUKMWII-o",
        "outputId": "bdfb56b1-0d94-45cf-f988-310f8a4d2620"
      },
      "execution_count": 28,
      "outputs": [
        {
          "output_type": "stream",
          "name": "stdout",
          "text": [
            "157/157 - 2s - loss: 0.3750 - acc: 0.8332 - 2s/epoch - 11ms/step\n",
            "157/157 - 1s - loss: 0.3853 - acc: 0.8270 - 966ms/epoch - 6ms/step\n",
            "Train accuracy: 83.32\n",
            "Test accuracy: 82.70\n"
          ]
        }
      ]
    },
    {
      "cell_type": "code",
      "source": [
        "train_dense_results = model1.evaluate(x_train, y_train, verbose=2, batch_size=256)\n",
        "valid_dense_results = model1.evaluate(x_test, y_test, verbose=2, batch_size=256)\n",
        "print(f'Train accuracy: {train_dense_results[1]*100:0.2f}')\n",
        "print(f'Test accuracy: {valid_dense_results[1]*100:0.2f}')"
      ],
      "metadata": {
        "colab": {
          "base_uri": "https://localhost:8080/"
        },
        "id": "hsqT6oARSw5T",
        "outputId": "e4f7a4ab-c383-44a2-9f63-2e2e344ef263"
      },
      "execution_count": 29,
      "outputs": [
        {
          "output_type": "stream",
          "name": "stdout",
          "text": [
            "157/157 - 33s - loss: 0.0999 - acc: 0.9660 - 33s/epoch - 213ms/step\n",
            "157/157 - 34s - loss: 0.1814 - acc: 0.9377 - 34s/epoch - 214ms/step\n",
            "Train accuracy: 96.60\n",
            "Test accuracy: 93.77\n"
          ]
        }
      ]
    },
    {
      "cell_type": "code",
      "source": [
        "train_dense_results = model2.evaluate(x_train, y_train, verbose=2, batch_size=256)\n",
        "valid_dense_results = model2.evaluate(x_test, y_test, verbose=2, batch_size=256)\n",
        "print(f'Train accuracy: {train_dense_results[1]*100:0.2f}')\n",
        "print(f'Test accuracy: {valid_dense_results[1]*100:0.2f}')"
      ],
      "metadata": {
        "colab": {
          "base_uri": "https://localhost:8080/"
        },
        "id": "yLz2yz0kS0K5",
        "outputId": "d6fd21fc-a138-4828-e613-2df90d82ddca"
      },
      "execution_count": 33,
      "outputs": [
        {
          "output_type": "stream",
          "name": "stdout",
          "text": [
            "157/157 - 32s - loss: 0.2367 - acc: 0.9009 - 32s/epoch - 201ms/step\n",
            "157/157 - 31s - loss: 0.2626 - acc: 0.8890 - 31s/epoch - 197ms/step\n",
            "Train accuracy: 90.09\n",
            "Test accuracy: 88.90\n"
          ]
        }
      ]
    }
  ]
}